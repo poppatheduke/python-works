{
 "cells": [
  {
   "cell_type": "code",
   "execution_count": 2,
   "id": "e4ff41c7-568a-4516-aa3d-41b2ce31cf51",
   "metadata": {},
   "outputs": [],
   "source": [
    "from pytube import YouTube"
   ]
  },
  {
   "cell_type": "code",
   "execution_count": 3,
   "id": "6d8dd773-5b41-4887-a3ee-27504f590787",
   "metadata": {},
   "outputs": [],
   "source": [
    "yt = YouTube(\"https://www.youtube.com/watch?v=AALBGpLbj6Q\")"
   ]
  },
  {
   "cell_type": "code",
   "execution_count": 5,
   "id": "cdff7fb2-854f-46b9-acaa-58136eecd9ca",
   "metadata": {},
   "outputs": [
    {
     "data": {
      "text/plain": [
       "'Build a Generative Adversarial Neural Network with Tensorflow and Python | Deep Learning Projects'"
      ]
     },
     "execution_count": 5,
     "metadata": {},
     "output_type": "execute_result"
    }
   ],
   "source": [
    "yt.title"
   ]
  },
  {
   "cell_type": "code",
   "execution_count": 6,
   "id": "3252bece-64ae-4629-afd5-7d3421f1cb3c",
   "metadata": {},
   "outputs": [
    {
     "data": {
      "text/plain": [
       "'https://i.ytimg.com/vi/AALBGpLbj6Q/hq720.jpg'"
      ]
     },
     "execution_count": 6,
     "metadata": {},
     "output_type": "execute_result"
    }
   ],
   "source": [
    "yt.thumbnail_url"
   ]
  },
  {
   "cell_type": "code",
   "execution_count": 7,
   "id": "c1734ac1-9aaf-4797-8108-2cb876b50880",
   "metadata": {},
   "outputs": [
    {
     "data": {
      "text/plain": [
       "'C:\\\\Users\\\\Duke\\\\Desktop\\\\Data Structures and Algorithms\\\\Python\\\\Youtube Downloader\\\\Build a Generative Adversarial Neural Network with Tensorflow and Python  Deep Learning Projects.mp4'"
      ]
     },
     "execution_count": 7,
     "metadata": {},
     "output_type": "execute_result"
    }
   ],
   "source": [
    "yt.streams.filter(mime_type=\"video/mp4\", res='720p').first().download()"
   ]
  },
  {
   "cell_type": "code",
   "execution_count": null,
   "id": "fed47f11-4214-4b52-af1a-e15ff75161e9",
   "metadata": {},
   "outputs": [],
   "source": []
  }
 ],
 "metadata": {
  "kernelspec": {
   "display_name": "Python 3 (ipykernel)",
   "language": "python",
   "name": "python3"
  },
  "language_info": {
   "codemirror_mode": {
    "name": "ipython",
    "version": 3
   },
   "file_extension": ".py",
   "mimetype": "text/x-python",
   "name": "python",
   "nbconvert_exporter": "python",
   "pygments_lexer": "ipython3",
   "version": "3.11.5"
  }
 },
 "nbformat": 4,
 "nbformat_minor": 5
}
