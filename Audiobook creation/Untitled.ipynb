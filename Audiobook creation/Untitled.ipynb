{
 "cells": [
  {
   "cell_type": "code",
   "execution_count": 1,
   "id": "385d4e7e-8bb1-47ed-87ef-a3f994d1d8b7",
   "metadata": {},
   "outputs": [],
   "source": [
    "import PyPDF2\n",
    "import pyttsx3"
   ]
  },
  {
   "cell_type": "code",
   "execution_count": 2,
   "id": "712e8c7e-942f-460b-bf09-1b9cd09219a4",
   "metadata": {},
   "outputs": [],
   "source": [
    "#Read Pdf by specifying the path in your computer\n",
    "pdfReader = PyPDF2. PdfReader(open('estateslides.pdf', 'rb'))"
   ]
  },
  {
   "cell_type": "code",
   "execution_count": 3,
   "id": "54ffe6f0-a0ec-488c-8926-f4d18aa00a9b",
   "metadata": {},
   "outputs": [],
   "source": [
    "#Get the handle to speak\n",
    "speaker = pyttsx3.init()"
   ]
  },
  {
   "cell_type": "code",
   "execution_count": 5,
   "id": "5aa2a75c-3351-40dd-aa12-0bba4db3269e",
   "metadata": {},
   "outputs": [],
   "source": [
    "#split the pages and read one by one\n",
    "all_text = \"\"\n",
    "for page_num in range(len(pdfReader.pages)):\n",
    "    text = pdfReader.pages[page_num].extract_text()\n",
    "    all_text += text\n",
    "    speaker.save_to_file(all_text, \"estateslides.mp3\")\n",
    "    speaker.runAndWait()"
   ]
  },
  {
   "cell_type": "code",
   "execution_count": null,
   "id": "659ae818-14a1-4039-966d-dd177ebd839b",
   "metadata": {},
   "outputs": [],
   "source": []
  },
  {
   "cell_type": "code",
   "execution_count": null,
   "id": "af75639f-d1e3-48c4-9027-c5266bb01447",
   "metadata": {},
   "outputs": [],
   "source": []
  },
  {
   "cell_type": "code",
   "execution_count": null,
   "id": "ec74100d-95e6-4f48-8b2f-6ff0bdbbb01a",
   "metadata": {},
   "outputs": [],
   "source": []
  }
 ],
 "metadata": {
  "kernelspec": {
   "display_name": "Python 3 (ipykernel)",
   "language": "python",
   "name": "python3"
  },
  "language_info": {
   "codemirror_mode": {
    "name": "ipython",
    "version": 3
   },
   "file_extension": ".py",
   "mimetype": "text/x-python",
   "name": "python",
   "nbconvert_exporter": "python",
   "pygments_lexer": "ipython3",
   "version": "3.11.5"
  }
 },
 "nbformat": 4,
 "nbformat_minor": 5
}
