{
 "cells": [
  {
   "cell_type": "code",
   "execution_count": 1,
   "id": "713aa0f8-3933-414b-88be-1a13edaaceba",
   "metadata": {},
   "outputs": [],
   "source": [
    "import time"
   ]
  },
  {
   "cell_type": "code",
   "execution_count": 6,
   "id": "9d003960-0a3e-4323-a313-53eb3b62d8d4",
   "metadata": {},
   "outputs": [
    {
     "name": "stdin",
     "output_type": "stream",
     "text": [
      "Enter the time in seconds:  100\n"
     ]
    },
    {
     "name": "stdout",
     "output_type": "stream",
     "text": [
      "Timer Completed!\n"
     ]
    }
   ],
   "source": [
    "def countdown(t):\n",
    "    while (t):\n",
    "        mins, sec = divmod(t, 60)\n",
    "        timer = \"{:02d}:{:02d}\".format(mins,sec)\n",
    "        print(timer, end='\\r')\n",
    "        time.sleep(1)\n",
    "        t -= 1\n",
    "    print(\"Timer Completed!\")\n",
    "\n",
    "t = input('Enter the time in seconds: ')\n",
    "\n",
    "countdown(int(t))"
   ]
  },
  {
   "cell_type": "code",
   "execution_count": null,
   "id": "c44c8d1a-719d-4f7f-9829-b1d8d1133397",
   "metadata": {},
   "outputs": [],
   "source": []
  }
 ],
 "metadata": {
  "kernelspec": {
   "display_name": "Python 3 (ipykernel)",
   "language": "python",
   "name": "python3"
  },
  "language_info": {
   "codemirror_mode": {
    "name": "ipython",
    "version": 3
   },
   "file_extension": ".py",
   "mimetype": "text/x-python",
   "name": "python",
   "nbconvert_exporter": "python",
   "pygments_lexer": "ipython3",
   "version": "3.11.5"
  }
 },
 "nbformat": 4,
 "nbformat_minor": 5
}
