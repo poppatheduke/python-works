{
 "cells": [
  {
   "cell_type": "code",
   "execution_count": 1,
   "id": "5efeb50d-866b-47f1-879d-017d22b996fc",
   "metadata": {},
   "outputs": [],
   "source": [
    "import os"
   ]
  },
  {
   "cell_type": "code",
   "execution_count": 25,
   "id": "83ccce91-05cd-4528-a2eb-5435d5fb5c88",
   "metadata": {},
   "outputs": [],
   "source": [
    "directory = \"C:/Users/Duke/Desktop/Data Structures and Algorithms/Python/Automation\"\n",
    "prefix = \"Directory_\""
   ]
  },
  {
   "cell_type": "code",
   "execution_count": 26,
   "id": "ceb0945c-1117-4b28-9529-bb764102ccd7",
   "metadata": {},
   "outputs": [],
   "source": [
    "#Iterate over files in the directory\n",
    "for count, filename in enumerate(os.listdir(directory)):\n",
    "    if filename.lower().endswith(\"jpg\"):\n",
    "        continue\n",
    "    elif filename.lower().endswith(\"ipynb\"):\n",
    "        continue\n",
    "    else:\n",
    "        new_name = f\"{prefix}{count}\"\n",
    "        src = f\"{directory}/{filename}/\"\n",
    "        dst = f\"{directory}/{new_name}/\"\n",
    "        os.rename(src,dst)"
   ]
  },
  {
   "cell_type": "code",
   "execution_count": null,
   "id": "4fed96a1-7865-4d55-b66a-e11a3d526712",
   "metadata": {},
   "outputs": [],
   "source": []
  }
 ],
 "metadata": {
  "kernelspec": {
   "display_name": "Python 3 (ipykernel)",
   "language": "python",
   "name": "python3"
  },
  "language_info": {
   "codemirror_mode": {
    "name": "ipython",
    "version": 3
   },
   "file_extension": ".py",
   "mimetype": "text/x-python",
   "name": "python",
   "nbconvert_exporter": "python",
   "pygments_lexer": "ipython3",
   "version": "3.11.5"
  }
 },
 "nbformat": 4,
 "nbformat_minor": 5
}
