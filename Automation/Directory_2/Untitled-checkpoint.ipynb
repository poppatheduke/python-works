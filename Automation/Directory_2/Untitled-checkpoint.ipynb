{
 "cells": [
  {
   "cell_type": "code",
   "execution_count": 1,
   "id": "5efeb50d-866b-47f1-879d-017d22b996fc",
   "metadata": {},
   "outputs": [],
   "source": [
    "import os"
   ]
  },
  {
   "cell_type": "code",
   "execution_count": 19,
   "id": "83ccce91-05cd-4528-a2eb-5435d5fb5c88",
   "metadata": {},
   "outputs": [],
   "source": [
    "directory = \"C:/Users/Duke/Desktop/Data Structures and Algorithms/Python/Automation\"\n",
    "prefix = \"Folder_\""
   ]
  },
  {
   "cell_type": "code",
   "execution_count": 20,
   "id": "ceb0945c-1117-4b28-9529-bb764102ccd7",
   "metadata": {},
   "outputs": [
    {
     "ename": "OSError",
     "evalue": "[WinError 123] The filename, directory name, or volume label syntax is incorrect: 'C:/Users/Duke/Desktop/Data Structures and Algorithms/Python/Automation/image_8/' -> 'C:/Users/Duke/Desktop/Data Structures and Algorithms/Python/Automation/Folder_11/'",
     "output_type": "error",
     "traceback": [
      "\u001b[1;31m---------------------------------------------------------------------------\u001b[0m",
      "\u001b[1;31mOSError\u001b[0m                                   Traceback (most recent call last)",
      "Cell \u001b[1;32mIn[20], line 9\u001b[0m\n\u001b[0;32m      7\u001b[0m src \u001b[38;5;241m=\u001b[39m \u001b[38;5;124mf\u001b[39m\u001b[38;5;124m\"\u001b[39m\u001b[38;5;132;01m{\u001b[39;00mdirectory\u001b[38;5;132;01m}\u001b[39;00m\u001b[38;5;124m/\u001b[39m\u001b[38;5;132;01m{\u001b[39;00mfilename\u001b[38;5;132;01m}\u001b[39;00m\u001b[38;5;124m/\u001b[39m\u001b[38;5;124m\"\u001b[39m\n\u001b[0;32m      8\u001b[0m dst \u001b[38;5;241m=\u001b[39m \u001b[38;5;124mf\u001b[39m\u001b[38;5;124m\"\u001b[39m\u001b[38;5;132;01m{\u001b[39;00mdirectory\u001b[38;5;132;01m}\u001b[39;00m\u001b[38;5;124m/\u001b[39m\u001b[38;5;132;01m{\u001b[39;00mnew_name\u001b[38;5;132;01m}\u001b[39;00m\u001b[38;5;124m/\u001b[39m\u001b[38;5;124m\"\u001b[39m\n\u001b[1;32m----> 9\u001b[0m os\u001b[38;5;241m.\u001b[39mrename(src,dst)\n",
      "\u001b[1;31mOSError\u001b[0m: [WinError 123] The filename, directory name, or volume label syntax is incorrect: 'C:/Users/Duke/Desktop/Data Structures and Algorithms/Python/Automation/image_8/' -> 'C:/Users/Duke/Desktop/Data Structures and Algorithms/Python/Automation/Folder_11/'"
     ]
    }
   ],
   "source": [
    "#Iterate over files in the directory\n",
    "for count, filename in enumerate(os.listdir(directory)):\n",
    "    if filename.lower().endswith(\"png\"):\n",
    "        continue\n",
    "    elif filename.lower(\n",
    "    else:\n",
    "        new_name = f\"{prefix}{count}\"\n",
    "        src = f\"{directory}/{filename}/\"\n",
    "        dst = f\"{directory}/{new_name}/\"\n",
    "        os.rename(src,dst)"
   ]
  },
  {
   "cell_type": "code",
   "execution_count": null,
   "id": "4fed96a1-7865-4d55-b66a-e11a3d526712",
   "metadata": {},
   "outputs": [],
   "source": []
  }
 ],
 "metadata": {
  "kernelspec": {
   "display_name": "Python 3 (ipykernel)",
   "language": "python",
   "name": "python3"
  },
  "language_info": {
   "codemirror_mode": {
    "name": "ipython",
    "version": 3
   },
   "file_extension": ".py",
   "mimetype": "text/x-python",
   "name": "python",
   "nbconvert_exporter": "python",
   "pygments_lexer": "ipython3",
   "version": "3.11.5"
  }
 },
 "nbformat": 4,
 "nbformat_minor": 5
}
