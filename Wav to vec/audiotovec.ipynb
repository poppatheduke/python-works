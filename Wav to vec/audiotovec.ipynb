{
 "cells": [
  {
   "cell_type": "code",
   "execution_count": 1,
   "id": "4827d419-508a-40fc-9a6c-533fc80fbc93",
   "metadata": {},
   "outputs": [],
   "source": [
    "import librosa \n",
    "import numpy as np"
   ]
  },
  {
   "cell_type": "code",
   "execution_count": 3,
   "id": "8f1d2163-ee94-4427-acba-c63c1f890658",
   "metadata": {},
   "outputs": [],
   "source": [
    "#Load WAV file\n",
    "audio, sr = librosa.load('test1.mp3')"
   ]
  },
  {
   "cell_type": "code",
   "execution_count": 10,
   "id": "152b2acd-8b8d-4612-b66d-aabf5f97b4ea",
   "metadata": {},
   "outputs": [],
   "source": [
    "#Extract MFCC features\n",
    "mfccs = librosa.feature.mfcc(y=audio,sr=sr)"
   ]
  },
  {
   "cell_type": "code",
   "execution_count": 11,
   "id": "c8d94f9f-8a33-4e21-8151-396dd33e91b4",
   "metadata": {},
   "outputs": [],
   "source": [
    "#Normalize and flatten the features\n",
    "mfccs_normalized = mfccs / np.max(np.abs(mfccs))\n",
    "vec = mfccs_normalized.flatten()"
   ]
  },
  {
   "cell_type": "code",
   "execution_count": 21,
   "id": "154a10a3-45b5-42c7-ae2a-dab96f944eb3",
   "metadata": {},
   "outputs": [
    {
     "data": {
      "text/plain": [
       "array([-1.        , -1.        , -1.        , ..., -0.00389443,\n",
       "       -0.01333596, -0.00999703], dtype=float32)"
      ]
     },
     "execution_count": 21,
     "metadata": {},
     "output_type": "execute_result"
    }
   ],
   "source": [
    "vec"
   ]
  },
  {
   "cell_type": "code",
   "execution_count": null,
   "id": "b5ae45f9-a4b9-461e-bf10-1841c311098e",
   "metadata": {},
   "outputs": [],
   "source": []
  }
 ],
 "metadata": {
  "kernelspec": {
   "display_name": "Python 3 (ipykernel)",
   "language": "python",
   "name": "python3"
  },
  "language_info": {
   "codemirror_mode": {
    "name": "ipython",
    "version": 3
   },
   "file_extension": ".py",
   "mimetype": "text/x-python",
   "name": "python",
   "nbconvert_exporter": "python",
   "pygments_lexer": "ipython3",
   "version": "3.11.5"
  }
 },
 "nbformat": 4,
 "nbformat_minor": 5
}
